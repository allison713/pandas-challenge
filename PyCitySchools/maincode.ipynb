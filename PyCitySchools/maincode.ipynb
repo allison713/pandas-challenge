{
 "cells": [
  {
   "cell_type": "code",
   "execution_count": null,
   "metadata": {},
   "outputs": [],
   "source": []
  }
 ],
 "metadata": {
  "kernelspec": {
   "display_name": "base",
   "language": "python",
   "name": "python3"
  },
  "language_info": {
   "name": "python",
   "version": "3.9.13 (main, Aug 25 2022, 23:51:50) [MSC v.1916 64 bit (AMD64)]"
  },
  "orig_nbformat": 4,
  "vscode": {
   "interpreter": {
    "hash": "1b36aa5bf74f60f256f795f7a2ab110d0fd4566d98cac0d7df5296079a1dbbbd"
   }
  }
 },
 "nbformat": 4,
 "nbformat_minor": 2
}
